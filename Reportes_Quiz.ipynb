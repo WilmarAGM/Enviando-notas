{
 "cells": [
  {
   "cell_type": "code",
   "execution_count": 9,
   "metadata": {},
   "outputs": [],
   "source": [
    "import pandas as pd\n",
    "import numpy as np\n",
    "from email.mime.multipart import MIMEMultipart\n",
    "from email.mime.text import MIMEText\n",
    "import smtplib\n",
    "import time\n",
    "import math\n",
    "\n",
    "\n",
    "def sendmails(From, Password,  To, Subject, Message):\n",
    "    msg = MIMEMultipart()\n",
    "    message = Message\n",
    "    # setup the parameters of the message\n",
    "    password = Password\n",
    "    msg['From'] = From\n",
    "    msg['To'] = To\n",
    "    msg['Subject'] = Subject\n",
    "    # add in the message body\n",
    "    msg.attach(MIMEText(message, 'plain'))\n",
    "    #create server\n",
    "    server = smtplib.SMTP('smtp.gmail.com: 587')\n",
    "    server.starttls()\n",
    "    # Login Credentials for sending the mail\n",
    "    server.login(msg['From'], password)\n",
    "    # send the message via the server.\n",
    "    server.sendmail(msg['From'], msg['To'], msg.as_string())\n",
    "    server.quit()\n",
    "    print (\"successfully sent email to %s:\" % (msg['To']))"
   ]
  },
  {
   "cell_type": "code",
   "execution_count": 10,
   "metadata": {},
   "outputs": [],
   "source": [
    "A = open(r'C:\\Users\\willi\\OneDrive\\Documentos\\Inf\\inf.txt','r')\n",
    "L = []\n",
    "for i in A:\n",
    "    L.append(i)\n",
    "From = L[0].rstrip()\n",
    "Password = L[1].rstrip()\n",
    "Subject = 'Nota del parcial 3'"
   ]
  },
  {
   "cell_type": "code",
   "execution_count": 11,
   "metadata": {},
   "outputs": [],
   "source": [
    "df = pd.read_excel('QG22.xls')\n",
    "df = df.set_index('CORREO')\n",
    "for i in df.index:\n",
    "    Nombre = df.loc[i,'APELLIDOS Y NOMBRE'].split(',')[1]\n",
    "    P3 =  df.loc[i,'P3']\n",
    "    To = i\n",
    "    Message = '''\n",
    "    Buenas días {}, espero que se encuentre muy bien.\n",
    "    \n",
    "    La nota obtenida en el tercer parcial es {}.\n",
    "\n",
    "    La revisión del exámen será mañana a las 12 del medio día en el bloque 43 oficina 234. \n",
    "\n",
    "    Tenga presente que solo admitiré reclamos si y solo si existe se le calificó erróneamente algún procedimiento.\n",
    "\n",
    "    Muchos éxitos y feliz día.\n",
    "\n",
    "    Cordialmente,\n",
    "\n",
    "    Wilmar A. González.    \n",
    "    '''.format(Nombre, P3)\n",
    "    # sendmails(From, Password,  To, Subject, Message)\n",
    "    #  time.sleep(2)\n"
   ]
  },
  {
   "cell_type": "code",
   "execution_count": 24,
   "metadata": {},
   "outputs": [],
   "source": [
    "# df = df[['APELLIDOS Y NOMBRE', 'QT', 'P1', 'P2', 'P3']]\n",
    "# df['QT'] = df['QT'].apply(lambda x: 0.1*np.floor(10*x+0.5))\n",
    "# df['D'] = 0.25*(df_2['QT'] + df_2['P1']+ df_2['P2']+df_2['P3'])\n",
    "# df['D'] = df_2['D'].apply(lambda x: 0.1*np.floor(10*x+0.5))\n",
    "# df.to_excel('Definitiva.xlsx')\n"
   ]
  }
 ],
 "metadata": {
  "kernelspec": {
   "display_name": "Python 3",
   "language": "python",
   "name": "python3"
  },
  "language_info": {
   "codemirror_mode": {
    "name": "ipython",
    "version": 3
   },
   "file_extension": ".py",
   "mimetype": "text/x-python",
   "name": "python",
   "nbconvert_exporter": "python",
   "pygments_lexer": "ipython3",
   "version": "3.8.3"
  }
 },
 "nbformat": 4,
 "nbformat_minor": 2
}
